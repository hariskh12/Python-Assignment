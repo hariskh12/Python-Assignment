{
 "cells": [
  {
   "cell_type": "code",
   "execution_count": 55,
   "id": "576108e7",
   "metadata": {},
   "outputs": [
    {
     "name": "stdout",
     "output_type": "stream",
     "text": [
      "Current Time ->  06:35:25\n",
      "Current Date ->  31/12/21\n"
     ]
    }
   ],
   "source": [
    "import datetime\n",
    "currentdate = datetime.datetime.now()\n",
    "time = currentdate.strftime(\"%H:%M:%S\")\n",
    "date = currentdate.strftime(\"%d/%m/%y\") \n",
    "print(\"Current Time -> \",time)\n",
    "print(\"Current Date -> \",date)\n",
    "\n",
    "\n"
   ]
  }
 ],
 "metadata": {
  "kernelspec": {
   "display_name": "Python 3 (ipykernel)",
   "language": "python",
   "name": "python3"
  },
  "language_info": {
   "codemirror_mode": {
    "name": "ipython",
    "version": 3
   },
   "file_extension": ".py",
   "mimetype": "text/x-python",
   "name": "python",
   "nbconvert_exporter": "python",
   "pygments_lexer": "ipython3",
   "version": "3.9.7"
  }
 },
 "nbformat": 4,
 "nbformat_minor": 5
}
