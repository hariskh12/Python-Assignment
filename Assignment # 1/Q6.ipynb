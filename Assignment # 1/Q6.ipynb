{
 "cells": [
  {
   "cell_type": "code",
   "execution_count": 5,
   "id": "494a6671",
   "metadata": {},
   "outputs": [
    {
     "name": "stdout",
     "output_type": "stream",
     "text": [
      "Enter Value 1:\n",
      "2\n",
      "Enter Value 2:\n",
      "2\n",
      "The Answer is  4\n"
     ]
    }
   ],
   "source": [
    "Input1 = int(input(\"Enter Value 1:\\n\"))\n",
    "Input2 = int(input(\"Enter Value 2:\\n\"))\n",
    "result = Input1+Input2\n",
    "print(\"The Answer is \",result)"
   ]
  },
  {
   "cell_type": "code",
   "execution_count": null,
   "id": "9a7b00e1",
   "metadata": {},
   "outputs": [],
   "source": []
  }
 ],
 "metadata": {
  "kernelspec": {
   "display_name": "Python 3 (ipykernel)",
   "language": "python",
   "name": "python3"
  },
  "language_info": {
   "codemirror_mode": {
    "name": "ipython",
    "version": 3
   },
   "file_extension": ".py",
   "mimetype": "text/x-python",
   "name": "python",
   "nbconvert_exporter": "python",
   "pygments_lexer": "ipython3",
   "version": "3.9.7"
  }
 },
 "nbformat": 4,
 "nbformat_minor": 5
}
